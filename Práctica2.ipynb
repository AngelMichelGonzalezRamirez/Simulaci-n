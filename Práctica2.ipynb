{
  "nbformat": 4,
  "nbformat_minor": 0,
  "metadata": {
    "colab": {
      "provenance": [],
      "authorship_tag": "ABX9TyMqmDcojHrypVkKKZrfPxe8",
      "include_colab_link": true
    },
    "kernelspec": {
      "name": "python3",
      "display_name": "Python 3"
    },
    "language_info": {
      "name": "python"
    }
  },
  "cells": [
    {
      "cell_type": "markdown",
      "metadata": {
        "id": "view-in-github",
        "colab_type": "text"
      },
      "source": [
        "<a href=\"https://colab.research.google.com/github/AngelMichelGonzalezRamirez/Simulaci-n/blob/main/Pr%C3%A1ctica2.ipynb\" target=\"_parent\"><img src=\"https://colab.research.google.com/assets/colab-badge.svg\" alt=\"Open In Colab\"/></a>"
      ]
    },
    {
      "cell_type": "markdown",
      "source": [
        "#Simulación\n",
        "##Unidad 2\n",
        "###Práctica 2: Realizar un programa en Python que genere 100 números aleatorios y realice la prueba de uniformidad de Kolmogorov-Smirnov.\n",
        "Maestro: José Gabriel Rodríguez Rivas\n",
        "Alumno: Ángel Michel González Ramírez"
      ],
      "metadata": {
        "id": "FrC5vZQXbhOs"
      }
    },
    {
      "cell_type": "code",
      "source": [
        "#Importación de librerías:\n",
        "import numpy as np\n",
        "import scipy.stats as stats\n",
        "\n",
        "def prueba_uniformidad():\n",
        "    # Generamos 100 números aleatorios entre 0 y 1\n",
        "    nAleatorio = np.random.uniform(0, 1, 100)\n",
        "\n",
        "    # Aplicamos la prueba de Kolmogorov-Smirnov\n",
        "    D, valorP = stats.kstest(nAleatorio, 'uniform')\n",
        "\n",
        "    # Mostramos los resultados\n",
        "    print(f\"Estadístico D: {D}\")\n",
        "    print(f\"Valor p: {valorP}\")\n",
        "\n",
        "    # Evaluamos la hipótesis nula con un nivel de significancia del 5%\n",
        "    nSignificancia = 0.05\n",
        "    if valorP > nSignificancia:\n",
        "        print(\"No se puede rechazar la hipótesis nula ya que los datos parecen seguir una distribución uniforme.\")\n",
        "    else:\n",
        "        print(\"Se rechaza la hipótesis nula debido a que los datos no siguen una distribución uniforme.\")\n",
        "\n",
        "# Ejecutar la prueba\n",
        "prueba_uniformidad()"
      ],
      "metadata": {
        "colab": {
          "base_uri": "https://localhost:8080/"
        },
        "id": "Y9drQkLxbxDL",
        "outputId": "ea1eb5ad-1d32-4fa2-ab55-6af43cfe5e4c"
      },
      "execution_count": 8,
      "outputs": [
        {
          "output_type": "stream",
          "name": "stdout",
          "text": [
            "Estadístico D: 0.0635149354136158\n",
            "Valor p: 0.7906315468484024\n",
            "No se puede rechazar la hipótesis nula: los datos parecen seguir una distribución uniforme.\n"
          ]
        }
      ]
    }
  ]
}