{
  "nbformat": 4,
  "nbformat_minor": 0,
  "metadata": {
    "colab": {
      "provenance": [],
      "authorship_tag": "ABX9TyPK55S63reAaAXXxphGyZ8w",
      "include_colab_link": true
    },
    "kernelspec": {
      "name": "python3",
      "display_name": "Python 3"
    },
    "language_info": {
      "name": "python"
    }
  },
  "cells": [
    {
      "cell_type": "markdown",
      "metadata": {
        "id": "view-in-github",
        "colab_type": "text"
      },
      "source": [
        "<a href=\"https://colab.research.google.com/github/AngelMichelGonzalezRamirez/Simulaci-n/blob/main/Practica1.ipynb\" target=\"_parent\"><img src=\"https://colab.research.google.com/assets/colab-badge.svg\" alt=\"Open In Colab\"/></a>"
      ]
    },
    {
      "cell_type": "markdown",
      "source": [
        "#Simulación\n",
        "##Unidad2\n",
        "###Práctica 1: Generación de número aleatorios por el método de centros al cuadrado.\n",
        "Maestro: José Gabriel Rodríguez Rivas\n",
        "Alumno: Ángel Michel González Ramírez"
      ],
      "metadata": {
        "id": "dm2zP3QN4MXg"
      }
    },
    {
      "cell_type": "code",
      "source": [
        "#Semilla Inicial\n",
        "semilla=2005\n",
        "n=4\n",
        "iteraciones=100\n",
        "resultados=[]\n",
        "\n",
        "for _ in range(iteraciones):\n",
        "    #Elevar la semilla al cuadrado\n",
        "    cuadrado=str (semilla**2).zfill(2*n) #Agregar los espacios necesarios\n",
        "    #Extraer los dígitos  centrales:\n",
        "    inicio=(len(cuadrado)-n)//2\n",
        "    semilla=int(cuadrado[inicio:inicio + n])\n",
        "    resultados.append(semilla);\n",
        "\n",
        "#Imprimir los resultados\n",
        "for i, numero in enumerate(resultados,1):\n",
        "     print(f\"Iteración {i}: {numero}\")"
      ],
      "metadata": {
        "colab": {
          "base_uri": "https://localhost:8080/"
        },
        "id": "C9CAYsOZ4pvl",
        "outputId": "5b045f23-6222-44f7-fec3-15d396b316ef"
      },
      "execution_count": 1,
      "outputs": [
        {
          "output_type": "stream",
          "name": "stdout",
          "text": [
            "Iteración 1: 200\n",
            "Iteración 2: 400\n",
            "Iteración 3: 1600\n",
            "Iteración 4: 5600\n",
            "Iteración 5: 3600\n",
            "Iteración 6: 9600\n",
            "Iteración 7: 1600\n",
            "Iteración 8: 5600\n",
            "Iteración 9: 3600\n",
            "Iteración 10: 9600\n",
            "Iteración 11: 1600\n",
            "Iteración 12: 5600\n",
            "Iteración 13: 3600\n",
            "Iteración 14: 9600\n",
            "Iteración 15: 1600\n",
            "Iteración 16: 5600\n",
            "Iteración 17: 3600\n",
            "Iteración 18: 9600\n",
            "Iteración 19: 1600\n",
            "Iteración 20: 5600\n",
            "Iteración 21: 3600\n",
            "Iteración 22: 9600\n",
            "Iteración 23: 1600\n",
            "Iteración 24: 5600\n",
            "Iteración 25: 3600\n",
            "Iteración 26: 9600\n",
            "Iteración 27: 1600\n",
            "Iteración 28: 5600\n",
            "Iteración 29: 3600\n",
            "Iteración 30: 9600\n",
            "Iteración 31: 1600\n",
            "Iteración 32: 5600\n",
            "Iteración 33: 3600\n",
            "Iteración 34: 9600\n",
            "Iteración 35: 1600\n",
            "Iteración 36: 5600\n",
            "Iteración 37: 3600\n",
            "Iteración 38: 9600\n",
            "Iteración 39: 1600\n",
            "Iteración 40: 5600\n",
            "Iteración 41: 3600\n",
            "Iteración 42: 9600\n",
            "Iteración 43: 1600\n",
            "Iteración 44: 5600\n",
            "Iteración 45: 3600\n",
            "Iteración 46: 9600\n",
            "Iteración 47: 1600\n",
            "Iteración 48: 5600\n",
            "Iteración 49: 3600\n",
            "Iteración 50: 9600\n",
            "Iteración 51: 1600\n",
            "Iteración 52: 5600\n",
            "Iteración 53: 3600\n",
            "Iteración 54: 9600\n",
            "Iteración 55: 1600\n",
            "Iteración 56: 5600\n",
            "Iteración 57: 3600\n",
            "Iteración 58: 9600\n",
            "Iteración 59: 1600\n",
            "Iteración 60: 5600\n",
            "Iteración 61: 3600\n",
            "Iteración 62: 9600\n",
            "Iteración 63: 1600\n",
            "Iteración 64: 5600\n",
            "Iteración 65: 3600\n",
            "Iteración 66: 9600\n",
            "Iteración 67: 1600\n",
            "Iteración 68: 5600\n",
            "Iteración 69: 3600\n",
            "Iteración 70: 9600\n",
            "Iteración 71: 1600\n",
            "Iteración 72: 5600\n",
            "Iteración 73: 3600\n",
            "Iteración 74: 9600\n",
            "Iteración 75: 1600\n",
            "Iteración 76: 5600\n",
            "Iteración 77: 3600\n",
            "Iteración 78: 9600\n",
            "Iteración 79: 1600\n",
            "Iteración 80: 5600\n",
            "Iteración 81: 3600\n",
            "Iteración 82: 9600\n",
            "Iteración 83: 1600\n",
            "Iteración 84: 5600\n",
            "Iteración 85: 3600\n",
            "Iteración 86: 9600\n",
            "Iteración 87: 1600\n",
            "Iteración 88: 5600\n",
            "Iteración 89: 3600\n",
            "Iteración 90: 9600\n",
            "Iteración 91: 1600\n",
            "Iteración 92: 5600\n",
            "Iteración 93: 3600\n",
            "Iteración 94: 9600\n",
            "Iteración 95: 1600\n",
            "Iteración 96: 5600\n",
            "Iteración 97: 3600\n",
            "Iteración 98: 9600\n",
            "Iteración 99: 1600\n",
            "Iteración 100: 5600\n"
          ]
        }
      ]
    }
  ]
}